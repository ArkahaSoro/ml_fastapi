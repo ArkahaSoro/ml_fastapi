{
  "nbformat": 4,
  "nbformat_minor": 0,
  "metadata": {
    "colab": {
      "provenance": [],
      "authorship_tag": "ABX9TyP4QONLpq63Zk8TW/vjSI0P",
      "include_colab_link": true
    },
    "kernelspec": {
      "name": "python3",
      "display_name": "Python 3"
    },
    "language_info": {
      "name": "python"
    }
  },
  "cells": [
    {
      "cell_type": "markdown",
      "metadata": {
        "id": "view-in-github",
        "colab_type": "text"
      },
      "source": [
        "<a href=\"https://colab.research.google.com/github/ArkahaSoro/ml_fastapi/blob/main/Neiro1.ipynb\" target=\"_parent\"><img src=\"https://colab.research.google.com/assets/colab-badge.svg\" alt=\"Open In Colab\"/></a>"
      ]
    },
    {
      "cell_type": "code",
      "execution_count": 2,
      "metadata": {
        "colab": {
          "base_uri": "https://localhost:8080/",
          "height": 384
        },
        "collapsed": true,
        "id": "HozRD8a8v4LF",
        "outputId": "4a1cee72-d5be-4abe-c6d5-643a8282ddd5"
      },
      "outputs": [
        {
          "output_type": "error",
          "ename": "ModuleNotFoundError",
          "evalue": "No module named 'streamlit'",
          "traceback": [
            "\u001b[0;31m---------------------------------------------------------------------------\u001b[0m",
            "\u001b[0;31mModuleNotFoundError\u001b[0m                       Traceback (most recent call last)",
            "\u001b[0;32m<ipython-input-2-952a27234c95>\u001b[0m in \u001b[0;36m<cell line: 2>\u001b[0;34m()\u001b[0m\n\u001b[1;32m      1\u001b[0m \u001b[0;31m#установка библиотек\u001b[0m\u001b[0;34m\u001b[0m\u001b[0;34m\u001b[0m\u001b[0m\n\u001b[0;32m----> 2\u001b[0;31m \u001b[0;32mimport\u001b[0m \u001b[0mstreamlit\u001b[0m \u001b[0;32mas\u001b[0m \u001b[0mst\u001b[0m\u001b[0;34m\u001b[0m\u001b[0;34m\u001b[0m\u001b[0m\n\u001b[0m\u001b[1;32m      3\u001b[0m \u001b[0;32mfrom\u001b[0m \u001b[0mPIL\u001b[0m \u001b[0;32mimport\u001b[0m \u001b[0mImage\u001b[0m\u001b[0;34m\u001b[0m\u001b[0;34m\u001b[0m\u001b[0m\n\u001b[1;32m      4\u001b[0m \u001b[0;32mimport\u001b[0m \u001b[0mtorch\u001b[0m\u001b[0;34m\u001b[0m\u001b[0;34m\u001b[0m\u001b[0m\n\u001b[1;32m      5\u001b[0m \u001b[0;32mfrom\u001b[0m \u001b[0mtransformers\u001b[0m \u001b[0;32mimport\u001b[0m \u001b[0mAutoImageProcessor\u001b[0m\u001b[0;34m,\u001b[0m \u001b[0mAutoModelForImageClassification\u001b[0m\u001b[0;34m\u001b[0m\u001b[0;34m\u001b[0m\u001b[0m\n",
            "\u001b[0;31mModuleNotFoundError\u001b[0m: No module named 'streamlit'",
            "",
            "\u001b[0;31m---------------------------------------------------------------------------\u001b[0;32m\nNOTE: If your import is failing due to a missing package, you can\nmanually install dependencies using either !pip or !apt.\n\nTo view examples of installing some common dependencies, click the\n\"Open Examples\" button below.\n\u001b[0;31m---------------------------------------------------------------------------\u001b[0m\n"
          ],
          "errorDetails": {
            "actions": [
              {
                "action": "open_url",
                "actionText": "Open Examples",
                "url": "/notebooks/snippets/importing_libraries.ipynb"
              }
            ]
          }
        }
      ],
      "source": [
        "#установка библиотек\n",
        "import streamlit as st\n",
        "from PIL import Image\n",
        "import torch\n",
        "from transformers import AutoImageProcessor, AutoModelForImageClassification\n",
        "\n",
        "#загрузка моделей\n",
        "@st.cache(allow_output_mutation = True)\n",
        "def load_auto_image_processor():\n",
        "  return AutoImageProcessor.from_pretrained('chrimaue/bird-species-classifier')\n",
        "\n",
        "@st.cache(allow_output_mutation = True)\n",
        "def load_auto_model():\n",
        "  return AutoModelForImageClassification.from_pretrained('chrimae/bird-species-classifer')\n",
        "\n",
        "#инициализация процессора и модели\n",
        "processor = load_auto_image_processor()\n",
        "model = load_auto_model()\n",
        "\n",
        "#реализация функции распознания объектов на изображении\n",
        "def predict_step(image):\n",
        "  if image.mode != \"RGB\":\n",
        "    image = image.convert(mode=\"RGB\")\n",
        "\n",
        "#подготовка изображения для модели\n",
        "pixel_values = processor(images = image, return_tensors=\"pt\").pixel_values\n",
        "\n",
        "#проверка доступа GPU\n",
        "device = torch.device(\"cuda\" if torch.cuda.is_available() else \"cpu\")\n",
        "pixel_values = pixel_values.to(device)\n",
        "model.to(device)\n",
        "\n",
        "#получение ответа\n",
        "with torch.no_grad():\n",
        "  outputs = model(pixel_values)\n",
        "\n",
        "#получение индексов классов с максимальной вероятностью\n",
        "logits = outputs.logits\n",
        "predicted_class_idx = logits.argmax(-1).item()\n",
        "\n",
        "#получение имени класса (при наличии списков классов)\n",
        "labels = processor.config.id2label\n",
        "predicted_label = labels[predicted_class_idx]\n",
        "\n",
        "return predict_label\n",
        "\n",
        "#использование в стримлит\n",
        "st.title(\"Bird Species Classifier\")\n",
        "uploaded_file = st.file_uploader(\"Выбирает изображение...\", type =[\"jpg\",\"jpeg\",\"png\"])\n",
        "\n",
        "if uploaded_file is not None:\n",
        "  image = Image.open(uploaded_file)\n",
        "  st.image(image, caption='Upload Image.', use_column_width = True)\n",
        "  st.write(\"\")\n",
        "  st.write(\"определяет вид...\")\n",
        "\n",
        "  prediction = predict_step(image)\n",
        "  st.write(f\"Относится к виду:{prediction}\")"
      ]
    },
    {
      "cell_type": "markdown",
      "source": [],
      "metadata": {
        "id": "RrzUlhJOwEtL"
      }
    }
  ]
}